{
 "cells": [
  {
   "attachments": {},
   "cell_type": "markdown",
   "id": "innocent-university",
   "metadata": {},
   "source": [
    "# Limpieza de bienes raíces\n",
    "\n",
    "Este es un conjunto de datos (dataset) reales que fue descargado usando técnicas de web scraping. La data contiene registros de fotocasa, el cual es uno de los sitios mas populares de bienes raíces en España. Por favor no hagas estos (web scraping) a no ser que sea para propósitos académicos.\n",
    "\n",
    "El dataset fue descargado hace algunos años por Henry Navarro y en ningún caso se obtuvo beneficio económico de ello.\n",
    "\n",
    "Contiene miles de datos de casas reales publicadas en la web www.fotocasa.com. Tu objetivo es extraer tanta información como sea posible con el conocimiento que tienes hasta ahora de ciencia de datos, por ejemplo ¿cuál es la casa mas cara en todo el dataset?\n",
    "\n",
    "Empecemos precisamente con esa pregunta... ¡Buena suerte!\n",
    "\n",
    "Let's start with precisely that question... Good luck!"
   ]
  },
  {
   "attachments": {},
   "cell_type": "markdown",
   "id": "multiple-glass",
   "metadata": {},
   "source": [
    "#### Ejercicio 00. Lee el dataset assets/real_estate.csv e intenta visualizar la tabla (★☆☆)"
   ]
  },
  {
   "cell_type": "code",
   "execution_count": 55,
   "id": "frank-heath",
   "metadata": {},
   "outputs": [
    {
     "data": {
      "text/html": [
       "<div>\n",
       "<style scoped>\n",
       "    .dataframe tbody tr th:only-of-type {\n",
       "        vertical-align: middle;\n",
       "    }\n",
       "\n",
       "    .dataframe tbody tr th {\n",
       "        vertical-align: top;\n",
       "    }\n",
       "\n",
       "    .dataframe thead th {\n",
       "        text-align: right;\n",
       "    }\n",
       "</style>\n",
       "<table border=\"1\" class=\"dataframe\">\n",
       "  <thead>\n",
       "    <tr style=\"text-align: right;\">\n",
       "      <th></th>\n",
       "      <th>Unnamed: 0</th>\n",
       "      <th>id_realEstates</th>\n",
       "      <th>isNew</th>\n",
       "      <th>realEstate_name</th>\n",
       "      <th>phone_realEstate</th>\n",
       "      <th>url_inmueble</th>\n",
       "      <th>rooms</th>\n",
       "      <th>bathrooms</th>\n",
       "      <th>surface</th>\n",
       "      <th>price</th>\n",
       "      <th>...</th>\n",
       "      <th>level4Id</th>\n",
       "      <th>level5Id</th>\n",
       "      <th>level6Id</th>\n",
       "      <th>level7Id</th>\n",
       "      <th>level8Id</th>\n",
       "      <th>accuracy</th>\n",
       "      <th>latitude</th>\n",
       "      <th>longitude</th>\n",
       "      <th>zipCode</th>\n",
       "      <th>customZone</th>\n",
       "    </tr>\n",
       "  </thead>\n",
       "  <tbody>\n",
       "    <tr>\n",
       "      <th>0</th>\n",
       "      <td>1</td>\n",
       "      <td>153771986</td>\n",
       "      <td>False</td>\n",
       "      <td>ferrari 57 inmobiliaria</td>\n",
       "      <td>912177526.0</td>\n",
       "      <td>https://www.fotocasa.es/es/comprar/vivienda/ma...</td>\n",
       "      <td>3.0</td>\n",
       "      <td>2.0</td>\n",
       "      <td>103.0</td>\n",
       "      <td>195000</td>\n",
       "      <td>...</td>\n",
       "      <td>0</td>\n",
       "      <td>0</td>\n",
       "      <td>0</td>\n",
       "      <td>0</td>\n",
       "      <td>0</td>\n",
       "      <td>0</td>\n",
       "      <td>40,2948276786438</td>\n",
       "      <td>-3,44402412135624</td>\n",
       "      <td>NaN</td>\n",
       "      <td>NaN</td>\n",
       "    </tr>\n",
       "    <tr>\n",
       "      <th>1</th>\n",
       "      <td>2</td>\n",
       "      <td>153867863</td>\n",
       "      <td>False</td>\n",
       "      <td>tecnocasa fuenlabrada ferrocarril</td>\n",
       "      <td>916358736.0</td>\n",
       "      <td>https://www.fotocasa.es/es/comprar/vivienda/ma...</td>\n",
       "      <td>3.0</td>\n",
       "      <td>1.0</td>\n",
       "      <td>NaN</td>\n",
       "      <td>89000</td>\n",
       "      <td>...</td>\n",
       "      <td>0</td>\n",
       "      <td>0</td>\n",
       "      <td>0</td>\n",
       "      <td>0</td>\n",
       "      <td>0</td>\n",
       "      <td>1</td>\n",
       "      <td>40,28674</td>\n",
       "      <td>-3,79351</td>\n",
       "      <td>NaN</td>\n",
       "      <td>NaN</td>\n",
       "    </tr>\n",
       "    <tr>\n",
       "      <th>2</th>\n",
       "      <td>3</td>\n",
       "      <td>153430440</td>\n",
       "      <td>False</td>\n",
       "      <td>look find boadilla</td>\n",
       "      <td>916350408.0</td>\n",
       "      <td>https://www.fotocasa.es/es/comprar/vivienda/ma...</td>\n",
       "      <td>2.0</td>\n",
       "      <td>2.0</td>\n",
       "      <td>99.0</td>\n",
       "      <td>390000</td>\n",
       "      <td>...</td>\n",
       "      <td>0</td>\n",
       "      <td>0</td>\n",
       "      <td>0</td>\n",
       "      <td>0</td>\n",
       "      <td>0</td>\n",
       "      <td>0</td>\n",
       "      <td>40,4115646786438</td>\n",
       "      <td>-3,90662252135624</td>\n",
       "      <td>NaN</td>\n",
       "      <td>NaN</td>\n",
       "    </tr>\n",
       "    <tr>\n",
       "      <th>3</th>\n",
       "      <td>4</td>\n",
       "      <td>152776331</td>\n",
       "      <td>False</td>\n",
       "      <td>tecnocasa fuenlabrada ferrocarril</td>\n",
       "      <td>916358736.0</td>\n",
       "      <td>https://www.fotocasa.es/es/comprar/vivienda/ma...</td>\n",
       "      <td>3.0</td>\n",
       "      <td>1.0</td>\n",
       "      <td>86.0</td>\n",
       "      <td>89000</td>\n",
       "      <td>...</td>\n",
       "      <td>0</td>\n",
       "      <td>0</td>\n",
       "      <td>0</td>\n",
       "      <td>0</td>\n",
       "      <td>0</td>\n",
       "      <td>0</td>\n",
       "      <td>40,2853785786438</td>\n",
       "      <td>-3,79508142135624</td>\n",
       "      <td>NaN</td>\n",
       "      <td>NaN</td>\n",
       "    </tr>\n",
       "    <tr>\n",
       "      <th>4</th>\n",
       "      <td>5</td>\n",
       "      <td>153180188</td>\n",
       "      <td>False</td>\n",
       "      <td>ferrari 57 inmobiliaria</td>\n",
       "      <td>912177526.0</td>\n",
       "      <td>https://www.fotocasa.es/es/comprar/vivienda/ma...</td>\n",
       "      <td>2.0</td>\n",
       "      <td>2.0</td>\n",
       "      <td>106.0</td>\n",
       "      <td>172000</td>\n",
       "      <td>...</td>\n",
       "      <td>0</td>\n",
       "      <td>0</td>\n",
       "      <td>0</td>\n",
       "      <td>0</td>\n",
       "      <td>0</td>\n",
       "      <td>0</td>\n",
       "      <td>40,2998774864376</td>\n",
       "      <td>-3,45226301356237</td>\n",
       "      <td>NaN</td>\n",
       "      <td>NaN</td>\n",
       "    </tr>\n",
       "  </tbody>\n",
       "</table>\n",
       "<p>5 rows × 37 columns</p>\n",
       "</div>"
      ],
      "text/plain": [
       "   Unnamed: 0  id_realEstates  isNew                    realEstate_name  \\\n",
       "0           1       153771986  False            ferrari 57 inmobiliaria   \n",
       "1           2       153867863  False  tecnocasa fuenlabrada ferrocarril   \n",
       "2           3       153430440  False                 look find boadilla   \n",
       "3           4       152776331  False  tecnocasa fuenlabrada ferrocarril   \n",
       "4           5       153180188  False            ferrari 57 inmobiliaria   \n",
       "\n",
       "   phone_realEstate                                       url_inmueble  rooms  \\\n",
       "0       912177526.0  https://www.fotocasa.es/es/comprar/vivienda/ma...    3.0   \n",
       "1       916358736.0  https://www.fotocasa.es/es/comprar/vivienda/ma...    3.0   \n",
       "2       916350408.0  https://www.fotocasa.es/es/comprar/vivienda/ma...    2.0   \n",
       "3       916358736.0  https://www.fotocasa.es/es/comprar/vivienda/ma...    3.0   \n",
       "4       912177526.0  https://www.fotocasa.es/es/comprar/vivienda/ma...    2.0   \n",
       "\n",
       "   bathrooms  surface   price  ... level4Id level5Id level6Id level7Id  \\\n",
       "0        2.0    103.0  195000  ...        0        0        0        0   \n",
       "1        1.0      NaN   89000  ...        0        0        0        0   \n",
       "2        2.0     99.0  390000  ...        0        0        0        0   \n",
       "3        1.0     86.0   89000  ...        0        0        0        0   \n",
       "4        2.0    106.0  172000  ...        0        0        0        0   \n",
       "\n",
       "  level8Id accuracy          latitude          longitude zipCode customZone  \n",
       "0        0        0  40,2948276786438  -3,44402412135624     NaN        NaN  \n",
       "1        0        1          40,28674           -3,79351     NaN        NaN  \n",
       "2        0        0  40,4115646786438  -3,90662252135624     NaN        NaN  \n",
       "3        0        0  40,2853785786438  -3,79508142135624     NaN        NaN  \n",
       "4        0        0  40,2998774864376  -3,45226301356237     NaN        NaN  \n",
       "\n",
       "[5 rows x 37 columns]"
      ]
     },
     "execution_count": 55,
     "metadata": {},
     "output_type": "execute_result"
    }
   ],
   "source": [
    "import pandas as pd\n",
    "import numpy as np\n",
    "import matplotlib.pyplot as plt\n",
    "\n",
    "# this CSV file contains semicolons instead of comas as separator\n",
    "ds =pd.read_csv('assets/real_estate.csv', sep=';')\n",
    "ds.head()\n",
    "\n"
   ]
  },
  {
   "attachments": {},
   "cell_type": "markdown",
   "id": "latin-guest",
   "metadata": {},
   "source": [
    "#### Ejercicio 01. ¿Cuál es la casa mas cara en el todo el dataset? (★☆☆)\n",
    "\n",
    "Imprime la direccion y el precio de la casa seleccionada. Por ejemplo:\n",
    "\n",
    "`The house with address General Street Nº5 is the most expensive and its price is 5000000 USD`"
   ]
  },
  {
   "cell_type": "markdown",
   "id": "ac63b8c8",
   "metadata": {},
   "source": []
  },
  {
   "cell_type": "code",
   "execution_count": 56,
   "id": "developing-optimum",
   "metadata": {},
   "outputs": [
    {
     "name": "stdout",
     "output_type": "stream",
     "text": [
      "Ubicación: El Escorial\n",
      "Precio: $8500000\n"
     ]
    }
   ],
   "source": [
    "# TOdo\n",
    "import pandas as pd\n",
    "\n",
    "indice_casa_mas_cara = ds['price'].idxmax()\n",
    "casa_mas_cara = ds.loc[indice_casa_mas_cara]\n",
    "\n",
    "print(f\"Ubicación: {casa_mas_cara['address']}\")\n",
    "print(f\"Precio: ${casa_mas_cara['price']}\")"
   ]
  },
  {
   "attachments": {},
   "cell_type": "markdown",
   "id": "lesser-cosmetic",
   "metadata": {},
   "source": [
    "#### Ejercicio 02. ¿Cuál es la casa mas barata del dataset? (★☆☆)\n",
    "\n",
    "Imprime la dirección y el precio de la casa seleccionada. Por ejemplo:\n",
    "\n",
    "`The house with address Concrete Street Nº1 is the cheapest and its price is 12000 USD`"
   ]
  },
  {
   "cell_type": "code",
   "execution_count": 57,
   "id": "lovely-oasis",
   "metadata": {},
   "outputs": [
    {
     "name": "stdout",
     "output_type": "stream",
     "text": [
      "Ubicación: 0\n",
      "Precio: $Parla\n"
     ]
    }
   ],
   "source": [
    "# TODO\n",
    "import pandas as pd\n",
    "\n",
    "indice_casa_mas_barata = ds['price'].idxmin()\n",
    "casa_mas_barata= ds.loc[indice_casa_mas_barata]\n",
    "\n",
    "print(f\"Ubicación: {casa_mas_barata['price']}\")\n",
    "print(f\"Precio: ${casa_mas_barata['address']}\")"
   ]
  },
  {
   "attachments": {},
   "cell_type": "markdown",
   "id": "compliant-fellowship",
   "metadata": {},
   "source": [
    "#### Ejercicio 03. ¿Cuál es la casa mas grande y la mas pequeña del dataset? (★☆☆)\n",
    "\n",
    "Imprime la dirección y el area de las casas seleccionadas. Por ejemplo:\n",
    "\n",
    "`The bigger house is located on Yukka Street Nº10 and its surface is 5000 meters`\n",
    "\n",
    "`The smaller house is located on County Road 1 N and its surface is 200 meters`"
   ]
  },
  {
   "cell_type": "code",
   "execution_count": 58,
   "id": "every-tiffany",
   "metadata": {},
   "outputs": [
    {
     "name": "stdout",
     "output_type": "stream",
     "text": [
      "The house with address Calle Amparo,  Madrid Capital is the smallest and its size is 15.0 square meters\n",
      "The house with address Sevilla la Nueva is the bigest and its size is 249000.0 square meters\n"
     ]
    }
   ],
   "source": [
    "# TODO\n",
    "import pandas as pd\n",
    "\n",
    "def find_smallest_house(dataset):\n",
    "    # Encontrar la fila con el tamaño más pequeño en metros cuadrados\n",
    "    min_size_row = dataset.loc[dataset['surface'].idxmin()]\n",
    "\n",
    "    # Obtener la dirección y el tamaño de la casa más pequeña\n",
    "    min_size_address = min_size_row['address']\n",
    "    min_size = min_size_row['surface']\n",
    "\n",
    "    return min_size, min_size_address\n",
    "\n",
    "min_size, min_size_address = find_smallest_house(ds)\n",
    "\n",
    "def find_bigest_house(dataset):\n",
    "    # Encontrar la fila con el tamaño más pequeño en metros cuadrados\n",
    "    max_size_row = dataset.loc[dataset['surface'].idxmax()]\n",
    "\n",
    "    # Obtener la dirección y el tamaño de la casa más pequeña\n",
    "    max_size_address = max_size_row['address']\n",
    "    max_size = max_size_row['surface']\n",
    "\n",
    "    return max_size, max_size_address\n",
    "\n",
    "# Llamar a la función para encontrar la casa más pequeña\n",
    "max_size, max_size_address = find_bigest_house(ds)\n",
    "\n",
    "# Imprimir la dirección y el tamaño de la casa más pequeña\n",
    "print(f\"The house with address {min_size_address} is the smallest and its size is {min_size} square meters\")\n",
    "print(f\"The house with address {max_size_address} is the bigest and its size is {max_size} square meters\")"
   ]
  },
  {
   "attachments": {},
   "cell_type": "markdown",
   "id": "danish-spirit",
   "metadata": {},
   "source": [
    "#### Ejercicio 04. ¿Cuantas poblaciones (columna level5) contiene el dataset? (★☆☆)\n",
    "\n",
    "Imprime el nombre de las poblaciones separadas por coma. Por ejemplo:\n",
    "\n",
    "`> print(populations)`\n",
    "\n",
    "`population1, population2, population3,...`"
   ]
  },
  {
   "cell_type": "markdown",
   "id": "8d88e844",
   "metadata": {},
   "source": []
  },
  {
   "cell_type": "code",
   "execution_count": 59,
   "id": "exciting-accreditation",
   "metadata": {},
   "outputs": [
    {
     "name": "stdout",
     "output_type": "stream",
     "text": [
      "Número de poblaciones: ['Arganda del Rey' 'Fuenlabrada' 'Boadilla del Monte'\n",
      " 'Las Rozas de Madrid' ' Madrid Capital' 'Villaviciosa de Odón' 'Pinto'\n",
      " 'Valdemoro' 'Navalcarnero' 'Pozuelo de Alarcón' 'Torrejón de Ardoz'\n",
      " 'Navalagamella' 'San Sebastián de los Reyes' 'Rivas-vaciamadrid'\n",
      " 'Alpedrete' 'Móstoles' 'San Fernando de Henares' 'Coslada'\n",
      " 'Becerril de la Sierra' 'Alcalá de Henares' 'Chinchón' 'Parla' 'Alcorcón'\n",
      " 'El Escorial' 'Leganés' 'Pedrezuela' 'Majadahonda'\n",
      " 'Villanueva de la Cañada' 'Villanueva del Pardillo' 'Torrelodones'\n",
      " 'Moralzarzal' 'Mejorada del Campo' 'Aranjuez' 'Corpa' 'Getafe'\n",
      " 'Velilla de San Antonio' 'Sevilla la Nueva' 'San Martín de la Vega'\n",
      " 'Villalbilla' 'Collado Villalba' 'Alcobendas' 'El Molar (Madrid)'\n",
      " 'Moraleja de Enmedio' 'Algete' 'Campo Real' 'Torrejón de la Calzada'\n",
      " 'Colmenar Viejo' 'Valdemorillo' 'Fuente El Saz de Jarama' 'Tres Cantos'\n",
      " 'Arroyomolinos (Madrid)' 'Griñón' 'Paracuellos de Jarama' 'Guadarrama'\n",
      " 'Titulcia' 'Galapagar' 'Collado Mediano' 'Los Molinos'\n",
      " 'San Lorenzo de El Escorial' 'Loeches' 'San Martín de Valdeiglesias'\n",
      " 'Navas del Rey' 'Bustarviejo' 'Manzanares El Real' 'Carabaña'\n",
      " 'Casarrubuelos' 'Cercedilla' 'Fresnedillas de la Oliva' 'Valdemaqueda'\n",
      " 'Robledo de Chavela' 'Miraflores de la Sierra' 'Humanes de Madrid'\n",
      " 'Valdetorres de Jarama' 'San Agustín del Guadalix' 'Ciempozuelos'\n",
      " 'Camarma de Esteruelas' 'Torres de la Alameda' 'Talamanca de Jarama'\n",
      " 'El Atazar' 'Hoyo de Manzanares' 'El Boalo - Cerceda – Mataelpino'\n",
      " 'El Álamo' 'Valdilecha' 'Valdeolmos-Alalpardo' 'Guadalix de la Sierra'\n",
      " 'Belmonte de Tajo' 'El Vellón' 'Brunete' 'Redueña' 'Morata de Tajuña'\n",
      " 'Tielmes' 'Gargantilla del Lozoya' 'Meco' 'Venturada' 'Quijorna'\n",
      " 'Cenicientos' 'Torrejón de Velasco' 'Navacerrada'\n",
      " 'Santa María de la Alameda' 'Orusco de Tajuña' 'Daganzo de Arriba'\n",
      " 'Villamanta' 'Anchuelo' 'Valdaracete' 'Ajalvir' 'Los Santos de la Humosa'\n",
      " 'Villamanrique de Tajo' 'Colmenar de Oreja' 'Villa del Prado'\n",
      " 'Fuentidueña de Tajo' 'Colmenar del Arroyo' 'Valdelaguna'\n",
      " 'Cubas de la Sagra' 'Valdeavero' 'Aldea del Fresno' 'Ribatejada'\n",
      " 'Torrelaguna' 'Batres' 'Pezuela de las Torres' 'Colmenarejo'\n",
      " 'Serranillos del Valle' 'Cobeña' 'Soto del Real' 'El Berrueco'\n",
      " 'Villanueva de Perales' 'Fresno de Torote - Serracines' 'Pozuelo del Rey'\n",
      " 'Pelayos de la Presa' 'La Cabrera' 'Nuevo Baztán' 'Perales de Tajuña'\n",
      " 'Villaconejos' 'Villarejo de Salvanés' 'Cadalso de los Vidrios'\n",
      " 'Santorcaz' 'Madarcos' 'Garganta de los Montes' 'Puentes Viejas'\n",
      " 'Torremocha de Jarama' 'Valdemanco' 'Braojos'\n",
      " 'Lozoyuela-navas-sieteiglesias' 'Piñuécar-gandullas' 'Valdepiélagos'\n",
      " 'Valverde de Alcalá' 'Villar del Olmo' 'Villamantilla'\n",
      " 'Horcajo de la Sierra' 'Gascones' 'Zarzalejo' 'Villavieja del Lozoya'\n",
      " 'Brea de Tajo' 'Estremera' 'Chapinería' 'Navarredonda' 'Patones' 'Ambite'\n",
      " 'Navalafuente' 'Lozoya' 'Canencia' 'Cabanillas de la Sierra'\n",
      " 'Buitrago del Lozoya' 'Fresno de Torote' 'Robregordo' 'Pinilla del Valle'\n",
      " 'Rascafría' 'La Hiruela' 'Montejo de la Sierra']\n",
      "['Arganda del Rey' 'Fuenlabrada' 'Boadilla del Monte'\n",
      " 'Las Rozas de Madrid' ' Madrid Capital' 'Villaviciosa de Odón' 'Pinto'\n",
      " 'Valdemoro' 'Navalcarnero' 'Pozuelo de Alarcón' 'Torrejón de Ardoz'\n",
      " 'Navalagamella' 'San Sebastián de los Reyes' 'Rivas-vaciamadrid'\n",
      " 'Alpedrete' 'Móstoles' 'San Fernando de Henares' 'Coslada'\n",
      " 'Becerril de la Sierra' 'Alcalá de Henares' 'Chinchón' 'Parla' 'Alcorcón'\n",
      " 'El Escorial' 'Leganés' 'Pedrezuela' 'Majadahonda'\n",
      " 'Villanueva de la Cañada' 'Villanueva del Pardillo' 'Torrelodones'\n",
      " 'Moralzarzal' 'Mejorada del Campo' 'Aranjuez' 'Corpa' 'Getafe'\n",
      " 'Velilla de San Antonio' 'Sevilla la Nueva' 'San Martín de la Vega'\n",
      " 'Villalbilla' 'Collado Villalba' 'Alcobendas' 'El Molar (Madrid)'\n",
      " 'Moraleja de Enmedio' 'Algete' 'Campo Real' 'Torrejón de la Calzada'\n",
      " 'Colmenar Viejo' 'Valdemorillo' 'Fuente El Saz de Jarama' 'Tres Cantos'\n",
      " 'Arroyomolinos (Madrid)' 'Griñón' 'Paracuellos de Jarama' 'Guadarrama'\n",
      " 'Titulcia' 'Galapagar' 'Collado Mediano' 'Los Molinos'\n",
      " 'San Lorenzo de El Escorial' 'Loeches' 'San Martín de Valdeiglesias'\n",
      " 'Navas del Rey' 'Bustarviejo' 'Manzanares El Real' 'Carabaña'\n",
      " 'Casarrubuelos' 'Cercedilla' 'Fresnedillas de la Oliva' 'Valdemaqueda'\n",
      " 'Robledo de Chavela' 'Miraflores de la Sierra' 'Humanes de Madrid'\n",
      " 'Valdetorres de Jarama' 'San Agustín del Guadalix' 'Ciempozuelos'\n",
      " 'Camarma de Esteruelas' 'Torres de la Alameda' 'Talamanca de Jarama'\n",
      " 'El Atazar' 'Hoyo de Manzanares' 'El Boalo - Cerceda – Mataelpino'\n",
      " 'El Álamo' 'Valdilecha' 'Valdeolmos-Alalpardo' 'Guadalix de la Sierra'\n",
      " 'Belmonte de Tajo' 'El Vellón' 'Brunete' 'Redueña' 'Morata de Tajuña'\n",
      " 'Tielmes' 'Gargantilla del Lozoya' 'Meco' 'Venturada' 'Quijorna'\n",
      " 'Cenicientos' 'Torrejón de Velasco' 'Navacerrada'\n",
      " 'Santa María de la Alameda' 'Orusco de Tajuña' 'Daganzo de Arriba'\n",
      " 'Villamanta' 'Anchuelo' 'Valdaracete' 'Ajalvir' 'Los Santos de la Humosa'\n",
      " 'Villamanrique de Tajo' 'Colmenar de Oreja' 'Villa del Prado'\n",
      " 'Fuentidueña de Tajo' 'Colmenar del Arroyo' 'Valdelaguna'\n",
      " 'Cubas de la Sagra' 'Valdeavero' 'Aldea del Fresno' 'Ribatejada'\n",
      " 'Torrelaguna' 'Batres' 'Pezuela de las Torres' 'Colmenarejo'\n",
      " 'Serranillos del Valle' 'Cobeña' 'Soto del Real' 'El Berrueco'\n",
      " 'Villanueva de Perales' 'Fresno de Torote - Serracines' 'Pozuelo del Rey'\n",
      " 'Pelayos de la Presa' 'La Cabrera' 'Nuevo Baztán' 'Perales de Tajuña'\n",
      " 'Villaconejos' 'Villarejo de Salvanés' 'Cadalso de los Vidrios'\n",
      " 'Santorcaz' 'Madarcos' 'Garganta de los Montes' 'Puentes Viejas'\n",
      " 'Torremocha de Jarama' 'Valdemanco' 'Braojos'\n",
      " 'Lozoyuela-navas-sieteiglesias' 'Piñuécar-gandullas' 'Valdepiélagos'\n",
      " 'Valverde de Alcalá' 'Villar del Olmo' 'Villamantilla'\n",
      " 'Horcajo de la Sierra' 'Gascones' 'Zarzalejo' 'Villavieja del Lozoya'\n",
      " 'Brea de Tajo' 'Estremera' 'Chapinería' 'Navarredonda' 'Patones' 'Ambite'\n",
      " 'Navalafuente' 'Lozoya' 'Canencia' 'Cabanillas de la Sierra'\n",
      " 'Buitrago del Lozoya' 'Fresno de Torote' 'Robregordo' 'Pinilla del Valle'\n",
      " 'Rascafría' 'La Hiruela' 'Montejo de la Sierra']\n",
      "Arganda del Rey,Fuenlabrada,Boadilla del Monte,Las Rozas de Madrid, Madrid Capital,Villaviciosa de Odón,Pinto,Valdemoro,Navalcarnero,Pozuelo de Alarcón,Torrejón de Ardoz,Navalagamella,San Sebastián de los Reyes,Rivas-vaciamadrid,Alpedrete,Móstoles,San Fernando de Henares,Coslada,Becerril de la Sierra,Alcalá de Henares,Chinchón,Parla,Alcorcón,El Escorial,Leganés,Pedrezuela,Majadahonda,Villanueva de la Cañada,Villanueva del Pardillo,Torrelodones,Moralzarzal,Mejorada del Campo,Aranjuez,Corpa,Getafe,Velilla de San Antonio,Sevilla la Nueva,San Martín de la Vega,Villalbilla,Collado Villalba,Alcobendas,El Molar (Madrid),Moraleja de Enmedio,Algete,Campo Real,Torrejón de la Calzada,Colmenar Viejo,Valdemorillo,Fuente El Saz de Jarama,Tres Cantos,Arroyomolinos (Madrid),Griñón,Paracuellos de Jarama,Guadarrama,Titulcia,Galapagar,Collado Mediano,Los Molinos,San Lorenzo de El Escorial,Loeches,San Martín de Valdeiglesias,Navas del Rey,Bustarviejo,Manzanares El Real,Carabaña,Casarrubuelos,Cercedilla,Fresnedillas de la Oliva,Valdemaqueda,Robledo de Chavela,Miraflores de la Sierra,Humanes de Madrid,Valdetorres de Jarama,San Agustín del Guadalix,Ciempozuelos,Camarma de Esteruelas,Torres de la Alameda,Talamanca de Jarama,El Atazar,Hoyo de Manzanares,El Boalo - Cerceda – Mataelpino,El Álamo,Valdilecha,Valdeolmos-Alalpardo,Guadalix de la Sierra,Belmonte de Tajo,El Vellón,Brunete,Redueña,Morata de Tajuña,Tielmes,Gargantilla del Lozoya,Meco,Venturada,Quijorna,Cenicientos,Torrejón de Velasco,Navacerrada,Santa María de la Alameda,Orusco de Tajuña,Daganzo de Arriba,Villamanta,Anchuelo,Valdaracete,Ajalvir,Los Santos de la Humosa,Villamanrique de Tajo,Colmenar de Oreja,Villa del Prado,Fuentidueña de Tajo,Colmenar del Arroyo,Valdelaguna,Cubas de la Sagra,Valdeavero,Aldea del Fresno,Ribatejada,Torrelaguna,Batres,Pezuela de las Torres,Colmenarejo,Serranillos del Valle,Cobeña,Soto del Real,El Berrueco,Villanueva de Perales,Fresno de Torote - Serracines,Pozuelo del Rey,Pelayos de la Presa,La Cabrera,Nuevo Baztán,Perales de Tajuña,Villaconejos,Villarejo de Salvanés,Cadalso de los Vidrios,Santorcaz,Madarcos,Garganta de los Montes,Puentes Viejas,Torremocha de Jarama,Valdemanco,Braojos,Lozoyuela-navas-sieteiglesias,Piñuécar-gandullas,Valdepiélagos,Valverde de Alcalá,Villar del Olmo,Villamantilla,Horcajo de la Sierra,Gascones,Zarzalejo,Villavieja del Lozoya,Brea de Tajo,Estremera,Chapinería,Navarredonda,Patones,Ambite,Navalafuente,Lozoya,Canencia,Cabanillas de la Sierra,Buitrago del Lozoya,Fresno de Torote,Robregordo,Pinilla del Valle,Rascafría,La Hiruela,Montejo de la Sierra\n"
     ]
    }
   ],
   "source": [
    "# TODO\n",
    "import pandas as pd\n",
    "\n",
    "num_poblaciones = ds['level5'].unique()\n",
    "print(\"Número de poblaciones:\", num_poblaciones)\n",
    "poblaciones =\",\".join(ds['level5'].unique())\n",
    "\n",
    "\n",
    "print(num_poblaciones)\n",
    "\n",
    "print(poblaciones) \n"
   ]
  },
  {
   "attachments": {},
   "cell_type": "markdown",
   "id": "crazy-blame",
   "metadata": {},
   "source": [
    "#### Ejercicio 05. ¿El data set contiene valores no admitidos (NAs)? (★☆☆)\n",
    "\n",
    "Imprima un booleano (`true` o `fase`) seguido de la fila/columna que contiene el NAs."
   ]
  },
  {
   "cell_type": "code",
   "execution_count": 60,
   "id": "transparent-poetry",
   "metadata": {},
   "outputs": [
    {
     "name": "stdout",
     "output_type": "stream",
     "text": [
      "Unnamed: 0          False\n",
      "id_realEstates      False\n",
      "isNew               False\n",
      "realEstate_name      True\n",
      "phone_realEstate     True\n",
      "url_inmueble        False\n",
      "rooms                True\n",
      "bathrooms            True\n",
      "surface              True\n",
      "price               False\n",
      "date                False\n",
      "description          True\n",
      "address             False\n",
      "country             False\n",
      "level1              False\n",
      "level2              False\n",
      "level3              False\n",
      "level4               True\n",
      "level5              False\n",
      "level6               True\n",
      "level7               True\n",
      "level8               True\n",
      "upperLevel          False\n",
      "countryId           False\n",
      "level1Id            False\n",
      "level2Id            False\n",
      "level3Id            False\n",
      "level4Id            False\n",
      "level5Id            False\n",
      "level6Id            False\n",
      "level7Id            False\n",
      "level8Id            False\n",
      "accuracy            False\n",
      "latitude            False\n",
      "longitude           False\n",
      "zipCode              True\n",
      "customZone           True\n",
      "dtype: bool\n"
     ]
    }
   ],
   "source": [
    "# TODO\n",
    "hay_NAs = str(ds.isna().any())\n",
    "print(hay_NAs)"
   ]
  },
  {
   "cell_type": "code",
   "execution_count": null,
   "id": "81ee0198",
   "metadata": {},
   "outputs": [],
   "source": []
  },
  {
   "attachments": {},
   "cell_type": "markdown",
   "id": "italic-hydrogen",
   "metadata": {},
   "source": [
    "#### Ejercicio 06. Elimina los NAs del data set, si aplica (★★☆)\n",
    "\n",
    "Imprima una comparación entre las dimensiones del DataFrame original versus el DataFrame después de las eliminaciones.\n"
   ]
  },
  {
   "cell_type": "code",
   "execution_count": 61,
   "id": "administrative-roads",
   "metadata": {},
   "outputs": [
    {
     "name": "stdout",
     "output_type": "stream",
     "text": [
      "Dimensiones del DataFrame original: (15335, 37)\n",
      "Dimensiones del DataFrame después de eliminar los NAs: (0, 37)\n"
     ]
    }
   ],
   "source": [
    "# TODO\n",
    "# Dimensiones del DataFrame original\n",
    "dimensiones_originales = ds.shape\n",
    "\n",
    "# Eliminar filas que contienen NAs\n",
    "ds_sin_nas = ds.dropna()\n",
    "\n",
    "# Dimensiones del DataFrame después de eliminar los NAs\n",
    "dimensiones_sin_nas = ds_sin_nas.shape\n",
    "\n",
    "# Imprimir comparación de dimensiones\n",
    "print(\"Dimensiones del DataFrame original:\", dimensiones_originales)\n",
    "print(\"Dimensiones del DataFrame después de eliminar los NAs:\", dimensiones_sin_nas)"
   ]
  },
  {
   "attachments": {},
   "cell_type": "markdown",
   "id": "middle-china",
   "metadata": {},
   "source": [
    "#### Ejercicio 07. ¿Cuál la media de precios en la población (columna level5) de \"Arroyomolinos (Madrid)\"? (★★☆)\n",
    "\n",
    "Imprima el valor obtenido"
   ]
  },
  {
   "cell_type": "code",
   "execution_count": 62,
   "id": "nuclear-belief",
   "metadata": {},
   "outputs": [
    {
     "name": "stdout",
     "output_type": "stream",
     "text": [
      "La media de precio en la población de Arroyomolinos: 294541.59854014596\n"
     ]
    }
   ],
   "source": [
    "# TODO\n",
    "\n",
    "PA = ds.loc[ds['level5'] == 'Arroyomolinos (Madrid)', 'price'].mean()\n",
    "print(\"La media de precio en la población de Arroyomolinos:\" , PA)\n"
   ]
  },
  {
   "attachments": {},
   "cell_type": "markdown",
   "id": "concerned-radical",
   "metadata": {},
   "source": [
    "#### Ejercicio 08. Trazar el histograma de los precios para la población (level5 column) de \"Arroyomolinos (Madrid)\" y explica qué observas (★★☆)\n",
    "\n",
    "Imprime el histograma de los precios y escribe en la celda del Markdown un breve análisis del trazado.\n"
   ]
  },
  {
   "cell_type": "code",
   "execution_count": 63,
   "id": "sudden-message",
   "metadata": {},
   "outputs": [
    {
     "data": {
      "image/png": "[encoded data removed]",
      "text/plain": [
       "<Figure size 1000x700 with 1 Axes>"
      ]
     },
     "metadata": {},
     "output_type": "display_data"
    }
   ],
   "source": [
    "# TODO: Code\n",
    "\n",
    "PA = ds.loc[ds['level5'] == 'Arroyomolinos (Madrid)', 'price'].mean()\n",
    "\n",
    "plt.figure(figsize=(10, 7))\n",
    "plt.hist(PA, bins=30,alpha = 0.7, color='skyblue', edgecolor='black')\n",
    "plt.title('Histograma de precios para Arroyomolinos (Madrid)')\n",
    "plt.xlabel('Precio')\n",
    "plt.ylabel('Frecuencia')\n",
    "plt.grid(True)\n",
    "plt.show()"
   ]
  },
  {
   "attachments": {},
   "cell_type": "markdown",
   "id": "impressed-combination",
   "metadata": {},
   "source": [
    "**TODO: Markdown**. Para escribir aquí, has doble click en este celda y elimina este contenido y coloca lo que quieras escribir. Luego ejecuta la celda."
   ]
  },
  {
   "attachments": {},
   "cell_type": "markdown",
   "id": "actual-edinburgh",
   "metadata": {},
   "source": [
    "#### Ejercicio 09. ¿ Son los precios promedios de \"Valdemorillo\" y \"Galapagar\" los mismos? (★★☆)\n",
    "\n",
    "Imprime ambos promedio y escribe una conclusion acerca de ellos"
   ]
  },
  {
   "cell_type": "code",
   "execution_count": 64,
   "id": "numeric-commerce",
   "metadata": {},
   "outputs": [
    {
     "name": "stdout",
     "output_type": "stream",
     "text": [
      "La media de precio en la población de Valdemorillo: 363860.2931034483\n",
      "La media de precio en la población de Galapagar: 360063.20238095237\n",
      "Los precios promedios de Valdemorillo y Galapagar son diferentes.\n"
     ]
    }
   ],
   "source": [
    "# TODO\n",
    "# Calcular la media de precios para Valdemorillo\n",
    "media_valdemorillo = ds.loc[ds['level5'] == 'Valdemorillo', 'price'].mean()\n",
    "print(\"La media de precio en la población de Valdemorillo:\" , media_valdemorillo)\n",
    "# Calcular la media de precios para Galapagar\n",
    "media_galapagar = ds.loc[ds['level5'] == 'Galapagar', 'price'].mean()\n",
    "print(\"La media de precio en la población de Galapagar:\" , media_galapagar)\n",
    "# Comparar los precios promedios\n",
    "if media_valdemorillo == media_galapagar:\n",
    "    print(\"Los precios promedios de Valdemorillo y Galapagar son iguales.\")\n",
    "else:\n",
    "    print(\"Los precios promedios de Valdemorillo y Galapagar son diferentes.\")"
   ]
  },
  {
   "attachments": {},
   "cell_type": "markdown",
   "id": "lonely-article",
   "metadata": {},
   "source": [
    "#### Ejercicio 10. ¿Son los promedios de precio por metro cuadrado (price/m2) de \"Valdemorillo\" y \"Galapagar\" los mismos? (★★☆)\n",
    "\n",
    "Imprime ambos promedios de precio y escribe una conclusion acerca de ellos.\n",
    "\n",
    "Pista: Crea una nueva columna llamada `pps` (price per square) y luego analiza los valore.s"
   ]
  },
  {
   "cell_type": "code",
   "execution_count": 65,
   "id": "hourly-globe",
   "metadata": {},
   "outputs": [
    {
     "name": "stdout",
     "output_type": "stream",
     "text": [
      "Promedio de precio por metro cuadrado en Valdemorillo: 1317.9502109024986\n",
      "Promedio de precio por metro cuadrado en Galapagar: 1606.3240303094024\n",
      "Los promedios de precio por metro cuadrado de Valdemorillo y Galapagar son diferentes.\n"
     ]
    }
   ],
   "source": [
    "# TODO\n",
    "ds['pps'] = ds['price'] / ds['surface']\n",
    "# Calcular el promedio de precio por metro cuadrado para Valdemorillo\n",
    "promedio_pps_valdemorillo = ds.loc[ds['level5'] == 'Valdemorillo', 'pps'].mean()\n",
    "\n",
    "# Calcular el promedio de precio por metro cuadrado para Galapagar\n",
    "promedio_pps_galapagar = ds.loc[ds['level5'] == 'Galapagar', 'pps'].mean()\n",
    "\n",
    "# Imprimir ambos promedios de precio por metro cuadrado\n",
    "print(\"Promedio de precio por metro cuadrado en Valdemorillo:\", promedio_pps_valdemorillo)\n",
    "print(\"Promedio de precio por metro cuadrado en Galapagar:\", promedio_pps_galapagar)\n",
    "\n",
    "# Comparar los promedios\n",
    "if promedio_pps_valdemorillo == promedio_pps_galapagar:\n",
    "    print(\"Los promedios de precio por metro cuadrado de Valdemorillo y Galapagar son iguales.\")\n",
    "else:\n",
    "    print(\"Los promedios de precio por metro cuadrado de Valdemorillo y Galapagar son diferentes.\")"
   ]
  },
  {
   "attachments": {},
   "cell_type": "markdown",
   "id": "pleasant-invite",
   "metadata": {},
   "source": [
    "#### Ejercicio 11. Analiza la relación entre la superficie y el precio de las casas. (★★☆)\n",
    "\n",
    "Pista: Puedes hacer un `scatter plot` y luego escribir una conclusion al respecto."
   ]
  },
  {
   "cell_type": "code",
   "execution_count": 66,
   "id": "common-drilling",
   "metadata": {},
   "outputs": [
    {
     "data": {
      "image/png": "[encoded data removed]",
      "text/plain": [
       "<Figure size 1000x600 with 1 Axes>"
      ]
     },
     "metadata": {},
     "output_type": "display_data"
    }
   ],
   "source": [
    "# TODO: Código\n",
    "plt.figure(figsize=(10, 6))\n",
    "plt.scatter(ds['surface'], ds['price'], color='skyblue', alpha=0.6)\n",
    "plt.title('Relación entre Superficie y Precio')\n",
    "plt.xlabel('Superficie (metros cuadrados)')\n",
    "plt.ylabel('Precio (euros)')\n",
    "plt.grid(True)\n",
    "plt.show()"
   ]
  },
  {
   "attachments": {},
   "cell_type": "markdown",
   "id": "ahead-liquid",
   "metadata": {},
   "source": [
    "**TODO: Markdown**. Escribe aquí, haz doble click en este celda y elimina este contenido y reemplázalo por el texto que quires escribir. Luego ejecuta la celda."
   ]
  },
  {
   "attachments": {},
   "cell_type": "markdown",
   "id": "coordinate-sunrise",
   "metadata": {},
   "source": [
    "#### Ejercicio 12. ¿Cuántas agencia de bienes raíces contiene el dataset? (★★☆)\n",
    "\n",
    "Imprime el valor obtenido."
   ]
  },
  {
   "cell_type": "code",
   "execution_count": 67,
   "id": "valid-honolulu",
   "metadata": {},
   "outputs": [
    {
     "name": "stdout",
     "output_type": "stream",
     "text": [
      "El dataset contiene 0                      ferrari 57 inmobiliaria\n",
      "1            tecnocasa fuenlabrada ferrocarril\n",
      "2                           look find boadilla\n",
      "5                                      expimad\n",
      "9                                      modesta\n",
      "                         ...                  \n",
      "15251                             star s house\n",
      "15305                           jadein ferrero\n",
      "15319    redpiso villaverde bajo san cristobal\n",
      "15322                        gestion comercial\n",
      "15326                                   nieves\n",
      "Name: realEstate_name, Length: 1822, dtype: object agencias de bienes raíces.\n"
     ]
    }
   ],
   "source": [
    "# TODO\n",
    "# Contar el número único de agencias de bienes raíces\n",
    "num_agencias = ds['realEstate_name'].drop_duplicates()\n",
    "\n",
    "\n",
    "print(\"El dataset contiene\", num_agencias, \"agencias de bienes raíces.\")"
   ]
  },
  {
   "attachments": {},
   "cell_type": "markdown",
   "id": "binding-ebony",
   "metadata": {},
   "source": [
    "#### Ejercicio 13. ¿Cuál es la población (columna level5) que contiene la mayor cantidad de casas?(★★☆)\n",
    "\n",
    "Imprima la población y el número de casas."
   ]
  },
  {
   "cell_type": "code",
   "execution_count": 68,
   "id": "static-perry",
   "metadata": {},
   "outputs": [
    {
     "name": "stdout",
     "output_type": "stream",
     "text": [
      "La población con la mayor cantidad de casas es:  Madrid Capital\n",
      "Número de casas en esa población: 6643\n"
     ]
    }
   ],
   "source": [
    "# TODO\n",
    "\n",
    "# Obtener la población con la mayor cantidad de casas\n",
    "poblacion_mas_casas = ds['level5'].value_counts().idxmax()\n",
    "numero=ds['level5'].value_counts().max()\n",
    "print(\"La población con la mayor cantidad de casas es:\", poblacion_mas_casas)\n",
    "print(\"Número de casas en esa población:\", numero)"
   ]
  },
  {
   "attachments": {},
   "cell_type": "markdown",
   "id": "entire-classification",
   "metadata": {},
   "source": [
    "#### Ejercicio 14. Ahora vamos a trabajar con el \"cinturón sur\" de Madrid. Has un subconjunto del Dataframe original que contenga las siguientes poblaciones (columna level5): \"Fuenlabrada\",\"Leganés\",\"Getafe\",\"Alcorcón\" (★★☆)\n",
    "\n",
    "Pista: Filtra el Dataframe original usando la columna `level5` y la función `isin`"
   ]
  },
  {
   "cell_type": "code",
   "execution_count": 69,
   "id": "binary-input",
   "metadata": {},
   "outputs": [
    {
     "name": "stdout",
     "output_type": "stream",
     "text": [
      "       Unnamed: 0  id_realEstates  isNew  \\\n",
      "1               2       153867863  False   \n",
      "3               4       152776331  False   \n",
      "85             86       153152077  False   \n",
      "94             95       153995577  False   \n",
      "109           110       153586414  False   \n",
      "...           ...             ...    ...   \n",
      "15275       15276       153903887  False   \n",
      "15291       15292       151697757  False   \n",
      "15305       15306       153902389  False   \n",
      "15322       15323       153871864  False   \n",
      "15325       15326       153901467  False   \n",
      "\n",
      "                                 realEstate_name  phone_realEstate  \\\n",
      "1              tecnocasa fuenlabrada ferrocarril       916358736.0   \n",
      "3              tecnocasa fuenlabrada ferrocarril       916358736.0   \n",
      "85                       sinergical inmobiliaria               NaN   \n",
      "94                               viviendas365com       911226014.0   \n",
      "109              area uno asesores inmobiliarios       912664081.0   \n",
      "...                                          ...               ...   \n",
      "15275  aliseda servicios de gestion inmobiliaria       911368198.0   \n",
      "15291                                    unipiso       912788631.0   \n",
      "15305                             jadein ferrero       914871639.0   \n",
      "15322                          gestion comercial       911220662.0   \n",
      "15325                              montehogar 68       911790675.0   \n",
      "\n",
      "                                            url_inmueble  rooms  bathrooms  \\\n",
      "1      https://www.fotocasa.es/es/comprar/vivienda/ma...    3.0        1.0   \n",
      "3      https://www.fotocasa.es/es/comprar/vivienda/ma...    3.0        1.0   \n",
      "85     https://www.fotocasa.es/es/comprar/vivienda/le...    1.0        1.0   \n",
      "94     https://www.fotocasa.es/es/comprar/vivienda/le...    3.0        2.0   \n",
      "109    https://www.fotocasa.es/es/comprar/vivienda/ma...    3.0        3.0   \n",
      "...                                                  ...    ...        ...   \n",
      "15275  https://www.fotocasa.es/es/comprar/vivienda/al...    3.0        1.0   \n",
      "15291  https://www.fotocasa.es/es/comprar/vivienda/al...    3.0        2.0   \n",
      "15305  https://www.fotocasa.es/es/comprar/vivienda/ma...    3.0        2.0   \n",
      "15322  https://www.fotocasa.es/es/comprar/vivienda/ma...    3.0        1.0   \n",
      "15325  https://www.fotocasa.es/es/comprar/vivienda/ma...    2.0        2.0   \n",
      "\n",
      "       surface   price  ... level5Id level6Id level7Id level8Id accuracy  \\\n",
      "1          NaN   89000  ...        0        0        0        0        1   \n",
      "3         86.0   89000  ...        0        0        0        0        0   \n",
      "85        50.0  107000  ...        0        0        0        0        1   \n",
      "94       120.0  320000  ...        0        0        0        0        0   \n",
      "109      142.0  425000  ...        0        0        0        0        0   \n",
      "...        ...     ...  ...      ...      ...      ...      ...      ...   \n",
      "15275     78.0  138000  ...        0        0        0        0        1   \n",
      "15291    110.0  279000  ...        0        0        0        0        0   \n",
      "15305     85.0  170000  ...        0        0        0        0        0   \n",
      "15322     91.0  112000  ...        0        0        0        0        0   \n",
      "15325     99.0  215000  ...        0        0        0        0        1   \n",
      "\n",
      "               latitude          longitude zipCode customZone          pps  \n",
      "1              40,28674           -3,79351     NaN        NaN          NaN  \n",
      "3      40,2853785786438  -3,79508142135624     NaN        NaN  1034.883721  \n",
      "85             40,35059           -3,82693     NaN        NaN  2140.000000  \n",
      "94             40,31933           -3,77574     NaN        NaN  2666.666667  \n",
      "109          40,3313411         -3,8313868     NaN        NaN  2992.957746  \n",
      "...                 ...                ...     ...        ...          ...  \n",
      "15275          40,31381           -3,83733     NaN        NaN  1769.230769  \n",
      "15291        40,3259051           -3,76318     NaN        NaN  2536.363636  \n",
      "15305        40,2882193         -3,8098617     NaN        NaN  2000.000000  \n",
      "15322          40,28282           -3,78892     NaN        NaN  1230.769231  \n",
      "15325          40,28062           -3,79869     NaN        NaN  2171.717172  \n",
      "\n",
      "[907 rows x 38 columns]\n"
     ]
    }
   ],
   "source": [
    "# TODO\n",
    "# Lista de poblaciones del cinturón sur de Madrid\n",
    "poblaciones_cinturon_sur = [\"Fuenlabrada\", \"Leganés\", \"Getafe\", \"Alcorcón\"]\n",
    "\n",
    "# Crear un subconjunto del DataFrame original que contenga solo las poblaciones del cinturón sur\n",
    "subconjunto_cinturon_sur = ds[ds['level5'].isin(poblaciones_cinturon_sur)]\n",
    "\n",
    "# Mostrar el subconjunto resultante\n",
    "print(subconjunto_cinturon_sur)"
   ]
  },
  {
   "attachments": {},
   "cell_type": "markdown",
   "id": "severe-fisher",
   "metadata": {},
   "source": [
    "#### Ejercicio 15. Traza un gráfico de barra de la media de los precios y explica lo que observas (debes usar el subconjunto obtenido de la pregunta 14) (★★★)\n",
    "\n",
    "Imprima un gráfico de barra de la media de precios y escriba en la celda Markdown un breve análisis del sector."
   ]
  },
  {
   "cell_type": "code",
   "execution_count": 70,
   "id": "lyric-bunch",
   "metadata": {},
   "outputs": [
    {
     "data": {
      "image/png": "[encoded data removed]",
      "text/plain": [
       "<Figure size 1000x600 with 1 Axes>"
      ]
     },
     "metadata": {},
     "output_type": "display_data"
    }
   ],
   "source": [
    "# TODO: Code\n",
    "media_precios_por_poblacion = subconjunto_cinturon_sur.groupby('level5')['price'].median()\n",
    "\n",
    "# Crear el gráfico de barras\n",
    "plt.figure(figsize=(10, 6))\n",
    "media_precios_por_poblacion.plot(kind='bar', color='skyblue')\n",
    "plt.title('Media de Precios por Población en el Cinturón Sur de Madrid')\n",
    "plt.xlabel('Población')\n",
    "plt.ylabel('Precio Medio')\n",
    "plt.xticks(rotation=45)\n",
    "plt.grid(axis='y', linestyle='--', alpha=0.7)\n",
    "\n",
    "# Mostrar el gráfico\n",
    "plt.tight_layout()\n",
    "plt.show()"
   ]
  },
  {
   "attachments": {},
   "cell_type": "markdown",
   "id": "sublime-newspaper",
   "metadata": {},
   "source": [
    "**TODO: Markdown**. La media de las casas en Getafe es mas alta que en otros en \"cinturon sur\". la media de precios de las casas de Fuenlabrada es mas baja."
   ]
  },
  {
   "attachments": {},
   "cell_type": "markdown",
   "id": "speaking-diamond",
   "metadata": {},
   "source": [
    "#### Ejercicio 16. Calcula la media y la varianza dela muestra para las siguientes variables: precio, habitaciones, superficie y baños (debes usar el subconjunto obtenido en la pregunta 14) (★★★)\n",
    "\n",
    "Imprime ambos valores por  cada variable."
   ]
  },
  {
   "cell_type": "code",
   "execution_count": 71,
   "id": "random-feeling",
   "metadata": {},
   "outputs": [
    {
     "name": "stdout",
     "output_type": "stream",
     "text": [
      "Media de precio: 223094.48070562293\n",
      "Varianza de precio: 14921367508.04902\n",
      "\n",
      "Media de habitaciones: 3.0177383592017737\n",
      "Varianza de habitaciones: 0.7188858892927542\n",
      "\n",
      "Media de superficie: 111.75222363405337\n",
      "Varianza de superficie: 4263.051760316337\n",
      "\n",
      "Media de baños: 1.633221850613155\n",
      "Varianza de baños: 0.5717968625577321\n"
     ]
    }
   ],
   "source": [
    "# TODO\n",
    "media_precio = subconjunto_cinturon_sur['price'].mean()\n",
    "varianza_precio = subconjunto_cinturon_sur['price'].var()\n",
    "\n",
    "media_habitaciones = subconjunto_cinturon_sur['rooms'].mean()\n",
    "varianza_habitaciones = subconjunto_cinturon_sur['rooms'].var()\n",
    "\n",
    "media_superficie = subconjunto_cinturon_sur['surface'].mean()\n",
    "varianza_superficie = subconjunto_cinturon_sur['surface'].var()\n",
    "\n",
    "media_baños = subconjunto_cinturon_sur['bathrooms'].mean()\n",
    "varianza_baños = subconjunto_cinturon_sur['bathrooms'].var()\n",
    "print(\"Media de precio:\", media_precio)\n",
    "print(\"Varianza de precio:\", varianza_precio)\n",
    "print()\n",
    "print(\"Media de habitaciones:\", media_habitaciones)\n",
    "print(\"Varianza de habitaciones:\", varianza_habitaciones)\n",
    "print()\n",
    "print(\"Media de superficie:\", media_superficie)\n",
    "print(\"Varianza de superficie:\", varianza_superficie)\n",
    "print()\n",
    "print(\"Media de baños:\", media_baños)\n",
    "print(\"Varianza de baños:\", varianza_baños)"
   ]
  },
  {
   "attachments": {},
   "cell_type": "markdown",
   "id": "revolutionary-matrix",
   "metadata": {},
   "source": [
    "#### Exercise 17. What is the most expensive house of each population? You must use the subset obtained in the question 14 (★★☆)\n",
    "\n",
    "Print both the address and the price of the selected house of each population. You can print a DataFrame or a single line for each population"
   ]
  },
  {
   "cell_type": "code",
   "execution_count": 72,
   "id": "fifteen-browse",
   "metadata": {},
   "outputs": [
    {
     "name": "stdout",
     "output_type": "stream",
     "text": [
      "            level5    price\n",
      "5585      Alcorcón   950000\n",
      "11561  Fuenlabrada   490000\n",
      "2881        Getafe  1050000\n",
      "10412      Leganés   650000\n"
     ]
    }
   ],
   "source": [
    "# TODO\n",
    "most_expensive_house_per_population = subconjunto_cinturon_sur.loc[subconjunto_cinturon_sur.groupby('level5')['price'].idxmax()]\n",
    "\n",
    "# Print the result\n",
    "print(most_expensive_house_per_population[['level5', 'price']])"
   ]
  },
  {
   "attachments": {},
   "cell_type": "markdown",
   "id": "activated-knight",
   "metadata": {},
   "source": [
    "#### Exercise 18. Normalize the variable of prices for each population and plot the 4 histograms in the same plot (you must use the subset obtained in the question 14) (★★★)\n",
    "\n",
    "For the normalization method you can use the one you consider to, there is not a single correct answer to this question. Print the plot and write in the Markdown cell a brief analysis about the plot\n",
    "\n",
    "Hint: You can help yourself reviewing the multihist demo of Matplotlib"
   ]
  },
  {
   "cell_type": "code",
   "execution_count": 73,
   "id": "civic-meditation",
   "metadata": {},
   "outputs": [
    {
     "data": {
      "image/png": "[encoded data removed]",
      "text/plain": [
       "<Figure size 1000x600 with 1 Axes>"
      ]
     },
     "metadata": {},
     "output_type": "display_data"
    }
   ],
   "source": [
    "# TODO\n",
    "normalized_prices = {}\n",
    "for population, group_data in subconjunto_cinturon_sur.groupby('level5'):\n",
    "    prices = group_data['price']\n",
    "    normalized_prices[population] = (prices - prices.min()) / (prices.max() - prices.min())\n",
    "\n",
    "# Plot histograms for each population\n",
    "plt.figure(figsize=(10, 6))\n",
    "for population, normalized_price in normalized_prices.items():\n",
    "    plt.hist(normalized_price, bins=20, alpha=0.5, label=population)\n",
    "\n",
    "plt.title('Normalized Prices Histogram for Each Population')\n",
    "plt.xlabel('Normalized Price')\n",
    "plt.ylabel('Frequency')\n",
    "plt.legend()\n",
    "plt.grid(True)\n",
    "plt.show()"
   ]
  },
  {
   "attachments": {},
   "cell_type": "markdown",
   "id": "precise-heavy",
   "metadata": {},
   "source": [
    "**TODO: Markdown**. To write here, double click to this cell and just remove this content and place the text you want to write. Then, execute the cell."
   ]
  },
  {
   "cell_type": "markdown",
   "id": "1a475ff3",
   "metadata": {},
   "source": [
    "En las 4 poblaciones, la mayoría de los precios de la vivienda  entre 100.000 EUR y 500.000 EUR."
   ]
  },
  {
   "attachments": {},
   "cell_type": "markdown",
   "id": "patent-jonathan",
   "metadata": {},
   "source": [
    "#### Exercise 19. What can you say about the price per square meter (price/m2) between the towns of \"Getafe\" and \"Alcorcón\"? You must use the subset obtained in the question 14 (★★☆)\n",
    "\n",
    "Hint: Create a new column called `pps` (price per square) and then analyse the values"
   ]
  },
  {
   "cell_type": "code",
   "execution_count": 74,
   "id": "initial-liverpool",
   "metadata": {},
   "outputs": [
    {
     "name": "stdout",
     "output_type": "stream",
     "text": [
      "Mean price per square meter in Getafe: 2066.314949251463\n",
      "Mean price per square meter in Alcorcón: 2239.302480199618\n"
     ]
    },
    {
     "name": "stderr",
     "output_type": "stream",
     "text": [
      "/tmp/ipykernel_2998/2602116464.py:3: SettingWithCopyWarning: \n",
      "A value is trying to be set on a copy of a slice from a DataFrame.\n",
      "Try using .loc[row_indexer,col_indexer] = value instead\n",
      "\n",
      "See the caveats in the documentation: https://pandas.pydata.org/pandas-docs/stable/user_guide/indexing.html#returning-a-view-versus-a-copy\n",
      "  subconjunto_cinturon_sur['pps'] = subconjunto_cinturon_sur['price'] / subconjunto_cinturon_sur['surface']\n"
     ]
    }
   ],
   "source": [
    "# TODO\n",
    "#Calculate price per square meter (pps) for each house\n",
    "subconjunto_cinturon_sur['pps'] = subconjunto_cinturon_sur['price'] / subconjunto_cinturon_sur['surface']\n",
    "\n",
    "# Filter subset to include only houses in \"Getafe\" and \"Alcorcón\"\n",
    "getafe_alcorcon_subset = subconjunto_cinturon_sur[subconjunto_cinturon_sur['level5'].isin(['Getafe', 'Alcorcón'])]\n",
    "\n",
    "# Analyze the price per square meter values for \"Getafe\" and \"Alcorcón\"\n",
    "mean_pps_getafe = getafe_alcorcon_subset[getafe_alcorcon_subset['level5'] == 'Getafe']['pps'].mean()\n",
    "mean_pps_alcorcon = getafe_alcorcon_subset[getafe_alcorcon_subset['level5'] == 'Alcorcón']['pps'].mean()\n",
    "\n",
    "# Print the results\n",
    "print(\"Mean price per square meter in Getafe:\", mean_pps_getafe)\n",
    "print(\"Mean price per square meter in Alcorcón:\", mean_pps_alcorcon)"
   ]
  },
  {
   "attachments": {},
   "cell_type": "markdown",
   "id": "enhanced-moscow",
   "metadata": {},
   "source": [
    "#### Exercise 20. Make the same plot for 4 different populations (level5 column) and rearrange them on the same graph? You must use the subset obtained in the question 14 (★★☆) \n",
    "Hint: make a scatter plot of each population using subplots."
   ]
  },
  {
   "cell_type": "code",
   "execution_count": 75,
   "id": "accepting-airfare",
   "metadata": {},
   "outputs": [],
   "source": [
    "# TODO"
   ]
  },
  {
   "attachments": {},
   "cell_type": "markdown",
   "id": "blocked-effects",
   "metadata": {},
   "source": [
    "#### Ejercicio 21. Realiza un trazado de las coordenadas (columnas latitud y longitud) del cinturón ur de Madrid por color d cada población (debes usar el subconjunto obtenido en la pregunta 14) (★★★★)\n",
    "\n",
    "Ejecuta la siguiente celda y luego comienza a codear en la siguiente. Debes implementar u código simple que transforme las columnas de coordenadas en un diccionario de python (agrega más información si es necesario) y agrégala al mapa."
   ]
  },
  {
   "cell_type": "code",
   "execution_count": 76,
   "id": "headed-privacy",
   "metadata": {},
   "outputs": [
    {
     "ename": "AttributeError",
     "evalue": "Stamen",
     "output_type": "error",
     "traceback": [
      "\u001b[0;31m---------------------------------------------------------------------------\u001b[0m",
      "\u001b[0;31mKeyError\u001b[0m                                  Traceback (most recent call last)",
      "File \u001b[0;32m~/.local/lib/python3.11/site-packages/xyzservices/lib.py:44\u001b[0m, in \u001b[0;36mBunch.__getattr__\u001b[0;34m(self, key)\u001b[0m\n\u001b[1;32m     43\u001b[0m \u001b[38;5;28;01mtry\u001b[39;00m:\n\u001b[0;32m---> 44\u001b[0m     \u001b[38;5;28;01mreturn\u001b[39;00m \u001b[38;5;28;43mself\u001b[39;49m\u001b[38;5;241;43m.\u001b[39;49m\u001b[38;5;21;43m__getitem__\u001b[39;49m\u001b[43m(\u001b[49m\u001b[43mkey\u001b[49m\u001b[43m)\u001b[49m\n\u001b[1;32m     45\u001b[0m \u001b[38;5;28;01mexcept\u001b[39;00m \u001b[38;5;167;01mKeyError\u001b[39;00m \u001b[38;5;28;01mas\u001b[39;00m err:\n",
      "\u001b[0;31mKeyError\u001b[0m: 'Stamen'",
      "\nThe above exception was the direct cause of the following exception:\n",
      "\u001b[0;31mAttributeError\u001b[0m                            Traceback (most recent call last)",
      "Cell \u001b[0;32mIn[76], line 7\u001b[0m\n\u001b[1;32m      2\u001b[0m \u001b[38;5;28;01mfrom\u001b[39;00m \u001b[38;5;21;01mIPython\u001b[39;00m\u001b[38;5;21;01m.\u001b[39;00m\u001b[38;5;21;01mdisplay\u001b[39;00m \u001b[38;5;28;01mimport\u001b[39;00m display\n\u001b[1;32m      4\u001b[0m \u001b[38;5;66;03m# Mapa centrado en (60 grados latitud et -2.2 grados longitud)\u001b[39;00m\n\u001b[1;32m      5\u001b[0m \u001b[38;5;66;03m# Latitud, longitud\u001b[39;00m\n\u001b[1;32m      6\u001b[0m \u001b[38;5;28mmap\u001b[39m \u001b[38;5;241m=\u001b[39m Map(center \u001b[38;5;241m=\u001b[39m (\u001b[38;5;241m60\u001b[39m, \u001b[38;5;241m-\u001b[39m\u001b[38;5;241m2.2\u001b[39m), zoom \u001b[38;5;241m=\u001b[39m \u001b[38;5;241m2\u001b[39m, min_zoom \u001b[38;5;241m=\u001b[39m \u001b[38;5;241m1\u001b[39m, max_zoom \u001b[38;5;241m=\u001b[39m \u001b[38;5;241m20\u001b[39m, \n\u001b[0;32m----> 7\u001b[0m     basemap\u001b[38;5;241m=\u001b[39m\u001b[43mbasemaps\u001b[49m\u001b[38;5;241;43m.\u001b[39;49m\u001b[43mStamen\u001b[49m\u001b[38;5;241m.\u001b[39mTerrain)\n\u001b[1;32m      8\u001b[0m \u001b[38;5;28mmap\u001b[39m\n",
      "File \u001b[0;32m~/.local/lib/python3.11/site-packages/xyzservices/lib.py:46\u001b[0m, in \u001b[0;36mBunch.__getattr__\u001b[0;34m(self, key)\u001b[0m\n\u001b[1;32m     44\u001b[0m     \u001b[38;5;28;01mreturn\u001b[39;00m \u001b[38;5;28mself\u001b[39m\u001b[38;5;241m.\u001b[39m\u001b[38;5;21m__getitem__\u001b[39m(key)\n\u001b[1;32m     45\u001b[0m \u001b[38;5;28;01mexcept\u001b[39;00m \u001b[38;5;167;01mKeyError\u001b[39;00m \u001b[38;5;28;01mas\u001b[39;00m err:\n\u001b[0;32m---> 46\u001b[0m     \u001b[38;5;28;01mraise\u001b[39;00m \u001b[38;5;167;01mAttributeError\u001b[39;00m(key) \u001b[38;5;28;01mfrom\u001b[39;00m \u001b[38;5;21;01merr\u001b[39;00m\n",
      "\u001b[0;31mAttributeError\u001b[0m: Stamen"
     ]
    }
   ],
   "source": [
    "from ipyleaflet import Map, basemaps, Marker, CircleMarker\n",
    "from IPython.display import display\n",
    "\n",
    "# Mapa centrado en (60 grados latitud et -2.2 grados longitud)\n",
    "# Latitud, longitud\n",
    "map = Map(center = (60, -2.2), zoom = 2, min_zoom = 1, max_zoom = 20, \n",
    "    basemap=basemaps.Stamen.Terrain)\n",
    "map"
   ]
  },
  {
   "cell_type": "code",
   "execution_count": null,
   "id": "present-mistress",
   "metadata": {},
   "outputs": [],
   "source": [
    "## Aquí: traza la coordenadas de los estados\n",
    "\n",
    "## PON TU CÓDIGO AQUÍ:\n"
   ]
  }
 ],
 "metadata": {
  "kernelspec": {
   "display_name": "Python 3",
   "language": "python",
   "name": "python3"
  },
  "language_info": {
   "codemirror_mode": {
    "name": "ipython",
    "version": 3
   },
   "file_extension": ".py",
   "mimetype": "text/x-python",
   "name": "python",
   "nbconvert_exporter": "python",
   "pygments_lexer": "ipython3",
   "version": "3.11.4"
  }
 },
 "nbformat": 4,
 "nbformat_minor": 5
}
